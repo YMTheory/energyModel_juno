{
 "cells": [
  {
   "cell_type": "code",
   "execution_count": 1,
   "metadata": {},
   "outputs": [],
   "source": [
    "import numpy as np\n",
    "import matplotlib.pyplot as plt\n",
    "%config InlineBackend.figure_format = 'svg'"
   ]
  },
  {
   "cell_type": "code",
   "execution_count": 2,
   "metadata": {},
   "outputs": [],
   "source": [
    "# initialization\n",
    "Z_A = 0.555087;\n",
    "density = 1.0; #g/cm3\n",
    "T0 = 0.514; #MeV\n",
    "T1 = 322.2; # MeV\n",
    "b0 = 17.6533; b1 = 20.1550; b2 = 3.2725; b3 = 12.8961; k = 3.4773"
   ]
  },
  {
   "cell_type": "code",
   "execution_count": null,
   "metadata": {},
   "outputs": [],
   "source": [
    "def B0_electron(T):\n",
    "    return np.log(T**2*(T+2)/2)+(1+T**2/8-(2*T+1)*np.log(2))/(T+1)**2\n",
    "\n",
    "def B0_positron(T):\n",
    "    beta = \n",
    "    return np.log(T**2*(T+2)/2)+2*np.log(2)-(beta**2/12)*(23+14*(T+2)+10/(T+2)**2+4/(T+2)**3)"
   ]
  }
 ],
 "metadata": {
  "kernelspec": {
   "display_name": "Python 3",
   "language": "python",
   "name": "python3"
  },
  "language_info": {
   "codemirror_mode": {
    "name": "ipython",
    "version": 3
   },
   "file_extension": ".py",
   "mimetype": "text/x-python",
   "name": "python",
   "nbconvert_exporter": "python",
   "pygments_lexer": "ipython3",
   "version": "3.7.4"
  }
 },
 "nbformat": 4,
 "nbformat_minor": 2
}
